{
 "cells": [
  {
   "cell_type": "markdown",
   "id": "dimensional-oasis",
   "metadata": {},
   "source": [
    "The price of the ordinary 25p shares of Manco PLC quoted on the stock exchange at the close of the business of successive Fridays is tabulated below:\n",
    "\n",
    "126, 120, 122, 105, 129, 119, 131, 138\n",
    "125, 127, 113, 112, 130, 122, 134, 136\n",
    "128, 126, 117, 114, 120, 123, 127, 140\n",
    "124, 127, 114, 111, 116, 131, 128, 137\n",
    "127, 122, 106, 121, 116, 135, 142, 130\n",
    "\n",
    "Required:\n",
    "\n",
    "a) Group the above data into eight classes and construct a frequency distribution\n",
    "\n",
    "b) Obtain the standard deviation of the distribution \n",
    "\n",
    "c) Determine the coefficient of variance of the distribution \n",
    "\n",
    "d) Calculate the coefficient of Skewness and interpret your results "
   ]
  },
  {
   "cell_type": "code",
   "execution_count": 1,
   "id": "educated-portugal",
   "metadata": {},
   "outputs": [],
   "source": [
    "import numpy as np\n",
    "import pandas as pd\n",
    "import matplotlib.pyplot as plt"
   ]
  },
  {
   "cell_type": "code",
   "execution_count": 2,
   "id": "cognitive-concrete",
   "metadata": {},
   "outputs": [
    {
     "data": {
      "text/html": [
       "<div>\n",
       "<style scoped>\n",
       "    .dataframe tbody tr th:only-of-type {\n",
       "        vertical-align: middle;\n",
       "    }\n",
       "\n",
       "    .dataframe tbody tr th {\n",
       "        vertical-align: top;\n",
       "    }\n",
       "\n",
       "    .dataframe thead th {\n",
       "        text-align: right;\n",
       "    }\n",
       "</style>\n",
       "<table border=\"1\" class=\"dataframe\">\n",
       "  <thead>\n",
       "    <tr style=\"text-align: right;\">\n",
       "      <th></th>\n",
       "      <th>0</th>\n",
       "      <th>1</th>\n",
       "      <th>2</th>\n",
       "      <th>3</th>\n",
       "      <th>4</th>\n",
       "      <th>5</th>\n",
       "      <th>6</th>\n",
       "      <th>7</th>\n",
       "    </tr>\n",
       "  </thead>\n",
       "  <tbody>\n",
       "    <tr>\n",
       "      <th>0</th>\n",
       "      <td>126</td>\n",
       "      <td>120</td>\n",
       "      <td>122</td>\n",
       "      <td>105</td>\n",
       "      <td>129</td>\n",
       "      <td>119</td>\n",
       "      <td>131</td>\n",
       "      <td>138</td>\n",
       "    </tr>\n",
       "    <tr>\n",
       "      <th>1</th>\n",
       "      <td>125</td>\n",
       "      <td>127</td>\n",
       "      <td>113</td>\n",
       "      <td>112</td>\n",
       "      <td>130</td>\n",
       "      <td>122</td>\n",
       "      <td>134</td>\n",
       "      <td>136</td>\n",
       "    </tr>\n",
       "    <tr>\n",
       "      <th>2</th>\n",
       "      <td>128</td>\n",
       "      <td>126</td>\n",
       "      <td>117</td>\n",
       "      <td>114</td>\n",
       "      <td>120</td>\n",
       "      <td>123</td>\n",
       "      <td>127</td>\n",
       "      <td>140</td>\n",
       "    </tr>\n",
       "    <tr>\n",
       "      <th>3</th>\n",
       "      <td>124</td>\n",
       "      <td>127</td>\n",
       "      <td>114</td>\n",
       "      <td>111</td>\n",
       "      <td>116</td>\n",
       "      <td>131</td>\n",
       "      <td>128</td>\n",
       "      <td>137</td>\n",
       "    </tr>\n",
       "    <tr>\n",
       "      <th>4</th>\n",
       "      <td>127</td>\n",
       "      <td>122</td>\n",
       "      <td>106</td>\n",
       "      <td>121</td>\n",
       "      <td>116</td>\n",
       "      <td>135</td>\n",
       "      <td>142</td>\n",
       "      <td>130</td>\n",
       "    </tr>\n",
       "  </tbody>\n",
       "</table>\n",
       "</div>"
      ],
      "text/plain": [
       "     0    1    2    3    4    5    6    7\n",
       "0  126  120  122  105  129  119  131  138\n",
       "1  125  127  113  112  130  122  134  136\n",
       "2  128  126  117  114  120  123  127  140\n",
       "3  124  127  114  111  116  131  128  137\n",
       "4  127  122  106  121  116  135  142  130"
      ]
     },
     "execution_count": 2,
     "metadata": {},
     "output_type": "execute_result"
    }
   ],
   "source": [
    "dt = pd.read_csv('data.csv', header = None)\n",
    "dt"
   ]
  },
  {
   "cell_type": "code",
   "execution_count": 3,
   "id": "ordered-chambers",
   "metadata": {},
   "outputs": [
    {
     "data": {
      "text/html": [
       "<div>\n",
       "<style scoped>\n",
       "    .dataframe tbody tr th:only-of-type {\n",
       "        vertical-align: middle;\n",
       "    }\n",
       "\n",
       "    .dataframe tbody tr th {\n",
       "        vertical-align: top;\n",
       "    }\n",
       "\n",
       "    .dataframe thead th {\n",
       "        text-align: right;\n",
       "    }\n",
       "</style>\n",
       "<table border=\"1\" class=\"dataframe\">\n",
       "  <thead>\n",
       "    <tr style=\"text-align: right;\">\n",
       "      <th></th>\n",
       "      <th>freq</th>\n",
       "    </tr>\n",
       "  </thead>\n",
       "  <tbody>\n",
       "    <tr>\n",
       "      <th>0</th>\n",
       "      <td>126</td>\n",
       "    </tr>\n",
       "    <tr>\n",
       "      <th>1</th>\n",
       "      <td>120</td>\n",
       "    </tr>\n",
       "    <tr>\n",
       "      <th>2</th>\n",
       "      <td>122</td>\n",
       "    </tr>\n",
       "    <tr>\n",
       "      <th>3</th>\n",
       "      <td>105</td>\n",
       "    </tr>\n",
       "    <tr>\n",
       "      <th>4</th>\n",
       "      <td>129</td>\n",
       "    </tr>\n",
       "    <tr>\n",
       "      <th>5</th>\n",
       "      <td>119</td>\n",
       "    </tr>\n",
       "    <tr>\n",
       "      <th>6</th>\n",
       "      <td>131</td>\n",
       "    </tr>\n",
       "    <tr>\n",
       "      <th>7</th>\n",
       "      <td>138</td>\n",
       "    </tr>\n",
       "    <tr>\n",
       "      <th>8</th>\n",
       "      <td>125</td>\n",
       "    </tr>\n",
       "    <tr>\n",
       "      <th>9</th>\n",
       "      <td>127</td>\n",
       "    </tr>\n",
       "    <tr>\n",
       "      <th>10</th>\n",
       "      <td>113</td>\n",
       "    </tr>\n",
       "    <tr>\n",
       "      <th>11</th>\n",
       "      <td>112</td>\n",
       "    </tr>\n",
       "    <tr>\n",
       "      <th>12</th>\n",
       "      <td>130</td>\n",
       "    </tr>\n",
       "    <tr>\n",
       "      <th>13</th>\n",
       "      <td>122</td>\n",
       "    </tr>\n",
       "    <tr>\n",
       "      <th>14</th>\n",
       "      <td>134</td>\n",
       "    </tr>\n",
       "    <tr>\n",
       "      <th>15</th>\n",
       "      <td>136</td>\n",
       "    </tr>\n",
       "    <tr>\n",
       "      <th>16</th>\n",
       "      <td>128</td>\n",
       "    </tr>\n",
       "    <tr>\n",
       "      <th>17</th>\n",
       "      <td>126</td>\n",
       "    </tr>\n",
       "    <tr>\n",
       "      <th>18</th>\n",
       "      <td>117</td>\n",
       "    </tr>\n",
       "    <tr>\n",
       "      <th>19</th>\n",
       "      <td>114</td>\n",
       "    </tr>\n",
       "    <tr>\n",
       "      <th>20</th>\n",
       "      <td>120</td>\n",
       "    </tr>\n",
       "    <tr>\n",
       "      <th>21</th>\n",
       "      <td>123</td>\n",
       "    </tr>\n",
       "    <tr>\n",
       "      <th>22</th>\n",
       "      <td>127</td>\n",
       "    </tr>\n",
       "    <tr>\n",
       "      <th>23</th>\n",
       "      <td>140</td>\n",
       "    </tr>\n",
       "    <tr>\n",
       "      <th>24</th>\n",
       "      <td>124</td>\n",
       "    </tr>\n",
       "    <tr>\n",
       "      <th>25</th>\n",
       "      <td>127</td>\n",
       "    </tr>\n",
       "    <tr>\n",
       "      <th>26</th>\n",
       "      <td>114</td>\n",
       "    </tr>\n",
       "    <tr>\n",
       "      <th>27</th>\n",
       "      <td>111</td>\n",
       "    </tr>\n",
       "    <tr>\n",
       "      <th>28</th>\n",
       "      <td>116</td>\n",
       "    </tr>\n",
       "    <tr>\n",
       "      <th>29</th>\n",
       "      <td>131</td>\n",
       "    </tr>\n",
       "    <tr>\n",
       "      <th>30</th>\n",
       "      <td>128</td>\n",
       "    </tr>\n",
       "    <tr>\n",
       "      <th>31</th>\n",
       "      <td>137</td>\n",
       "    </tr>\n",
       "    <tr>\n",
       "      <th>32</th>\n",
       "      <td>127</td>\n",
       "    </tr>\n",
       "    <tr>\n",
       "      <th>33</th>\n",
       "      <td>122</td>\n",
       "    </tr>\n",
       "    <tr>\n",
       "      <th>34</th>\n",
       "      <td>106</td>\n",
       "    </tr>\n",
       "    <tr>\n",
       "      <th>35</th>\n",
       "      <td>121</td>\n",
       "    </tr>\n",
       "    <tr>\n",
       "      <th>36</th>\n",
       "      <td>116</td>\n",
       "    </tr>\n",
       "    <tr>\n",
       "      <th>37</th>\n",
       "      <td>135</td>\n",
       "    </tr>\n",
       "    <tr>\n",
       "      <th>38</th>\n",
       "      <td>142</td>\n",
       "    </tr>\n",
       "    <tr>\n",
       "      <th>39</th>\n",
       "      <td>130</td>\n",
       "    </tr>\n",
       "  </tbody>\n",
       "</table>\n",
       "</div>"
      ],
      "text/plain": [
       "    freq\n",
       "0    126\n",
       "1    120\n",
       "2    122\n",
       "3    105\n",
       "4    129\n",
       "5    119\n",
       "6    131\n",
       "7    138\n",
       "8    125\n",
       "9    127\n",
       "10   113\n",
       "11   112\n",
       "12   130\n",
       "13   122\n",
       "14   134\n",
       "15   136\n",
       "16   128\n",
       "17   126\n",
       "18   117\n",
       "19   114\n",
       "20   120\n",
       "21   123\n",
       "22   127\n",
       "23   140\n",
       "24   124\n",
       "25   127\n",
       "26   114\n",
       "27   111\n",
       "28   116\n",
       "29   131\n",
       "30   128\n",
       "31   137\n",
       "32   127\n",
       "33   122\n",
       "34   106\n",
       "35   121\n",
       "36   116\n",
       "37   135\n",
       "38   142\n",
       "39   130"
      ]
     },
     "execution_count": 3,
     "metadata": {},
     "output_type": "execute_result"
    }
   ],
   "source": [
    "dt1 = dt.values.flatten()\n",
    "dt1 = pd.DataFrame({'freq': dt1})\n",
    "dt1"
   ]
  },
  {
   "cell_type": "code",
   "execution_count": 4,
   "id": "early-median",
   "metadata": {},
   "outputs": [],
   "source": [
    "ranges = np.array([104,109,114,119,124,129,134,139])"
   ]
  },
  {
   "cell_type": "code",
   "execution_count": 8,
   "id": "packed-intellectual",
   "metadata": {},
   "outputs": [
    {
     "data": {
      "text/html": [
       "<div>\n",
       "<style scoped>\n",
       "    .dataframe tbody tr th:only-of-type {\n",
       "        vertical-align: middle;\n",
       "    }\n",
       "\n",
       "    .dataframe tbody tr th {\n",
       "        vertical-align: top;\n",
       "    }\n",
       "\n",
       "    .dataframe thead th {\n",
       "        text-align: right;\n",
       "    }\n",
       "</style>\n",
       "<table border=\"1\" class=\"dataframe\">\n",
       "  <thead>\n",
       "    <tr style=\"text-align: right;\">\n",
       "      <th></th>\n",
       "      <th>freq</th>\n",
       "    </tr>\n",
       "    <tr>\n",
       "      <th>freq</th>\n",
       "      <th></th>\n",
       "    </tr>\n",
       "  </thead>\n",
       "  <tbody>\n",
       "    <tr>\n",
       "      <th>(104, 109]</th>\n",
       "      <td>2</td>\n",
       "    </tr>\n",
       "    <tr>\n",
       "      <th>(109, 114]</th>\n",
       "      <td>5</td>\n",
       "    </tr>\n",
       "    <tr>\n",
       "      <th>(114, 119]</th>\n",
       "      <td>4</td>\n",
       "    </tr>\n",
       "    <tr>\n",
       "      <th>(119, 124]</th>\n",
       "      <td>8</td>\n",
       "    </tr>\n",
       "    <tr>\n",
       "      <th>(124, 129]</th>\n",
       "      <td>10</td>\n",
       "    </tr>\n",
       "    <tr>\n",
       "      <th>(129, 134]</th>\n",
       "      <td>5</td>\n",
       "    </tr>\n",
       "    <tr>\n",
       "      <th>(134, 139]</th>\n",
       "      <td>4</td>\n",
       "    </tr>\n",
       "  </tbody>\n",
       "</table>\n",
       "</div>"
      ],
      "text/plain": [
       "            freq\n",
       "freq            \n",
       "(104, 109]     2\n",
       "(109, 114]     5\n",
       "(114, 119]     4\n",
       "(119, 124]     8\n",
       "(124, 129]    10\n",
       "(129, 134]     5\n",
       "(134, 139]     4"
      ]
     },
     "execution_count": 8,
     "metadata": {},
     "output_type": "execute_result"
    }
   ],
   "source": [
    "dt2 = dt1.groupby(pd.cut(dt1['freq'], ranges)).count()\n",
    "dt2"
   ]
  },
  {
   "cell_type": "code",
   "execution_count": 9,
   "id": "laughing-defendant",
   "metadata": {},
   "outputs": [
    {
     "data": {
      "text/plain": [
       "freq    105\n",
       "dtype: int64"
      ]
     },
     "execution_count": 9,
     "metadata": {},
     "output_type": "execute_result"
    }
   ],
   "source": [
    "dt1.min()"
   ]
  },
  {
   "cell_type": "code",
   "execution_count": 10,
   "id": "pursuant-settlement",
   "metadata": {},
   "outputs": [
    {
     "data": {
      "text/plain": [
       "freq    142\n",
       "dtype: int64"
      ]
     },
     "execution_count": 10,
     "metadata": {},
     "output_type": "execute_result"
    }
   ],
   "source": [
    "dt1.max()"
   ]
  },
  {
   "cell_type": "markdown",
   "id": "specified-welding",
   "metadata": {},
   "source": [
    "$\\sigma={\\sqrt {\\frac {\\sum(x_{i}-{\\mu})^{2}}{N}}}$"
   ]
  },
  {
   "cell_type": "code",
   "execution_count": 14,
   "id": "beneficial-magnitude",
   "metadata": {},
   "outputs": [
    {
     "data": {
      "text/plain": [
       "2.498979383505129"
      ]
     },
     "execution_count": 14,
     "metadata": {},
     "output_type": "execute_result"
    }
   ],
   "source": [
    "np.std(dt2['freq'].values)"
   ]
  },
  {
   "cell_type": "code",
   "execution_count": 15,
   "id": "smoking-magnitude",
   "metadata": {},
   "outputs": [
    {
     "data": {
      "text/plain": [
       "2.498979383505129"
      ]
     },
     "execution_count": 15,
     "metadata": {},
     "output_type": "execute_result"
    }
   ],
   "source": [
    "np.sqrt(np.sum((dt2['freq'].values - np.mean(dt2['freq'].values))**2) /7)"
   ]
  },
  {
   "cell_type": "code",
   "execution_count": 16,
   "id": "hindu-purple",
   "metadata": {},
   "outputs": [
    {
     "data": {
      "text/plain": [
       "array([ 2,  5,  4,  8, 10,  5,  4])"
      ]
     },
     "execution_count": 16,
     "metadata": {},
     "output_type": "execute_result"
    }
   ],
   "source": [
    "dt2['freq'].values"
   ]
  },
  {
   "cell_type": "code",
   "execution_count": 17,
   "id": "beginning-hypothetical",
   "metadata": {},
   "outputs": [
    {
     "data": {
      "text/plain": [
       "5.428571428571429"
      ]
     },
     "execution_count": 17,
     "metadata": {},
     "output_type": "execute_result"
    }
   ],
   "source": [
    "np.mean(dt2['freq'].values)"
   ]
  },
  {
   "cell_type": "code",
   "execution_count": 18,
   "id": "hundred-arcade",
   "metadata": {},
   "outputs": [
    {
     "data": {
      "text/plain": [
       "49.72222007287153"
      ]
     },
     "execution_count": 18,
     "metadata": {},
     "output_type": "execute_result"
    }
   ],
   "source": [
    "# coeff of variation \n",
    "cv = lambda x: np.std(x, ddof=1) / np.mean(x) * 100 \n",
    "\n",
    "#calculate CV\n",
    "cv(dt2['freq'].values)"
   ]
  },
  {
   "cell_type": "code",
   "execution_count": 19,
   "id": "romance-horror",
   "metadata": {},
   "outputs": [
    {
     "data": {
      "text/plain": [
       "49.72222007287153"
      ]
     },
     "execution_count": 19,
     "metadata": {},
     "output_type": "execute_result"
    }
   ],
   "source": [
    "cv([ 2,  5,  4,  8, 10,  5,  4])"
   ]
  },
  {
   "cell_type": "code",
   "execution_count": null,
   "id": "extreme-marking",
   "metadata": {},
   "outputs": [],
   "source": []
  }
 ],
 "metadata": {
  "kernelspec": {
   "display_name": "Python 3",
   "language": "python",
   "name": "python3"
  },
  "language_info": {
   "codemirror_mode": {
    "name": "ipython",
    "version": 3
   },
   "file_extension": ".py",
   "mimetype": "text/x-python",
   "name": "python",
   "nbconvert_exporter": "python",
   "pygments_lexer": "ipython3",
   "version": "3.7.3"
  }
 },
 "nbformat": 4,
 "nbformat_minor": 5
}
