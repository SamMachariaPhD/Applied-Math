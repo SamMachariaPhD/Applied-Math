{
 "cells": [
  {
   "cell_type": "code",
   "execution_count": 1,
   "id": "greater-northern",
   "metadata": {},
   "outputs": [],
   "source": [
    "# import the libraries you intend to use\n",
    "import numpy as np"
   ]
  },
  {
   "cell_type": "code",
   "execution_count": 2,
   "id": "critical-influence",
   "metadata": {},
   "outputs": [],
   "source": [
    "# translate the main equation into a function\n",
    "def cow_weight(r):\n",
    "    cw = rho * ((4*np.pi)/3)*r**3 * g\n",
    "    return cw"
   ]
  },
  {
   "cell_type": "code",
   "execution_count": 3,
   "id": "verified-announcement",
   "metadata": {},
   "outputs": [],
   "source": [
    "# define the variables\n",
    "rho = 1850 # kg/m^3 bone?[https://physics.nist.gov/cgi-bin/Star/compos.pl?matno=119] (assumed constant)\n",
    "g = 9.8 # m/m^2 (assumed constant)\n",
    "r1 = 0.6 # m (normal cow radius)\n",
    "r2 = 3*r1 # m (super cow radius - thrice)"
   ]
  },
  {
   "cell_type": "code",
   "execution_count": 4,
   "id": "advisory-replica",
   "metadata": {},
   "outputs": [],
   "source": [
    "# get answers to your questions\n",
    "Wnc = cow_weight(r1)\n",
    "Wsc = cow_weight(r2)\n",
    "ratio = Wsc/Wnc"
   ]
  },
  {
   "cell_type": "code",
   "execution_count": 5,
   "id": "closing-doubt",
   "metadata": {},
   "outputs": [
    {
     "name": "stdout",
     "output_type": "stream",
     "text": [
      "Normal Cow Weight ~\t 1.64E+04 kg.m/s^2\n",
      "Super Cow Weight ~\t 4.43E+05 N\n",
      "Super Cow Weighs ~2.70E+01 more than the Normal Cow\n"
     ]
    }
   ],
   "source": [
    "# print answers (IN SCIENTIFIC NOTATION!)\n",
    "print(\"Normal Cow Weight ~\\t %.2E kg.m/s^2\" %Wnc) # (= N) confirm units\n",
    "print(\"Super Cow Weight ~\\t %.2E N\" %Wsc)\n",
    "print(\"Super Cow Weighs ~%.2E more than the Normal Cow\" %ratio)"
   ]
  }
 ],
 "metadata": {
  "kernelspec": {
   "display_name": "Python 3",
   "language": "python",
   "name": "python3"
  },
  "language_info": {
   "codemirror_mode": {
    "name": "ipython",
    "version": 3
   },
   "file_extension": ".py",
   "mimetype": "text/x-python",
   "name": "python",
   "nbconvert_exporter": "python",
   "pygments_lexer": "ipython3",
   "version": "3.7.3"
  }
 },
 "nbformat": 4,
 "nbformat_minor": 5
}
